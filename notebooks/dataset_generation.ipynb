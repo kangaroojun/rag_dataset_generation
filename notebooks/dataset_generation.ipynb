{
 "cells": [
  {
   "cell_type": "markdown",
   "metadata": {},
   "source": [
    "# Dataset Generation"
   ]
  },
  {
   "cell_type": "markdown",
   "metadata": {},
   "source": [
    "## Basic setup"
   ]
  },
  {
   "cell_type": "code",
   "execution_count": 1,
   "metadata": {},
   "outputs": [],
   "source": [
    "# Make Haystack silent\n",
    "import logging\n",
    "\n",
    "# Set logging level for specific loggers\n",
    "logging.getLogger(\"haystack\").setLevel(logging.FATAL)\n",
    "logging.getLogger(\"llama_index\").setLevel(logging.FATAL)\n",
    "logging.getLogger(\"httpx\").setLevel(logging.FATAL)\n",
    "logging.getLogger(\"openai._base_client\").setLevel(logging.FATAL)"
   ]
  },
  {
   "cell_type": "code",
   "execution_count": 2,
   "metadata": {},
   "outputs": [],
   "source": [
    "# Automatic reloading\n",
    "%load_ext autoreload\n",
    "%autoreload 2"
   ]
  },
  {
   "cell_type": "code",
   "execution_count": 3,
   "metadata": {},
   "outputs": [],
   "source": [
    "import sys\n",
    "import os\n",
    "\n",
    "# Get the current file's directory (e.g., the 'notebooks' directory)\n",
    "current_dir = os.path.dirname(os.path.abspath(''))\n",
    "\n",
    "# Navigate one level up\n",
    "parent_dir = os.path.abspath(os.path.join(current_dir, '..'))\n",
    "\n",
    "# Add the directory to sys.path\n",
    "sys.path.append(parent_dir)"
   ]
  },
  {
   "cell_type": "code",
   "execution_count": 4,
   "metadata": {},
   "outputs": [],
   "source": [
    "from dotenv import load_dotenv\n",
    "from haystack.components.generators import AzureOpenAIGenerator\n",
    "from milvus_haystack import MilvusDocumentStore\n",
    "\n",
    "load_dotenv()\n",
    "\n",
    "document_store = MilvusDocumentStore(\n",
    "    collection_name=\"\",\n",
    "    collection_description=\"\",\n",
    "    connection_args={\n",
    "        \"host\": os.getenv(\"MILVUS_HOST\", \"\"),\n",
    "        \"port\": os.getenv(\"MILVUS_PORT\", \"\"),\n",
    "        \"user\": \"\",\n",
    "        \"password\": \"\",\n",
    "        \"secure\": False,\n",
    "    },\n",
    ")\n",
    "\n",
    "llm = AzureOpenAIGenerator()"
   ]
  },
  {
   "cell_type": "code",
   "execution_count": 7,
   "metadata": {},
   "outputs": [],
   "source": [
    "from src.evaluation.dataset_generation.dataset_generation import DatasetGenerator, MilvusDocumentStoreWrapper\n",
    "\n",
    "milvus_wrapper = MilvusDocumentStoreWrapper(document_store=document_store)\n",
    "generator = DatasetGenerator(document_store_wrapper=milvus_wrapper, model=llm, seed=42)"
   ]
  },
  {
   "cell_type": "markdown",
   "metadata": {},
   "source": [
    "## Sample chunks in Milvus Database\n",
    "We observe some chunks that are in the database should not be used to generate chunks from. We therefore have to evaluate chunks using the evaluate chunk method."
   ]
  },
  {
   "cell_type": "code",
   "execution_count": 10,
   "metadata": {},
   "outputs": [
    {
     "name": "stdout",
     "output_type": "stream",
     "text": [
      "54. Alt, Franz L. \n",
      "------------------\n",
      "Blu-ray Disc allows video with a bit depth of 8-bits per color YCbCr with 4:2:0 chroma subsampling.[185][186] The choice of formats affects the producer's licensing/royalty costs as well as the title's maximum run time, due to differences in compression efficiency. \n",
      "--------------------------------------------------------------------------------------------------------------------------------------------------------------------------------------------------------------------------------------------------------------------------\n",
      "For fundamental contributions to and leadership in telecommunications switching systems. \n",
      "-----------------------------------------------------------------------------------------\n",
      "October 11, 2000. Archived (https://web.archive.org/web/20070926232228/https://www.cdrinfo. com/Sections/News/Details.aspx?NewsId=4922) from the original on September 26, 2007. Retrieved October 17, 2007. 09/10/2024, 17:58 Blu-ray - Wikipedia https://en.wikipedia.org/wiki/Blu-ray 20/36\n",
      "----------------------------------------------------------------------------------------------------------------------------------------------------------------------------------------------------------------------------------------------------------------------------------------------\n",
      "prices its IP based on perceived value. Lower performing ARM cores typically have lower licence costs than higher performing cores. In implementation terms, a synthesisable core costs more than a hard macro (blackbox) core. Complicating price matters, a merchant foundry that holds an ARM licence, such as Samsung or Fujitsu, can offer fab customers reduced licensing costs. In exchange for acquiring the ARM core through the foundry's in-house design services, the customer can reduce or eliminate payment of ARM's upfront licence fee. Compared to dedicated semiconductor foundries (such as TSMC and UMC) without in-house design services, Fujitsu/Samsung charge two- to three-times more per manufactured wafer. For low to mid volume applications, a design service foundry offers lower overall pricing (through subsidisation of the licence fee). \n",
      "------------------------------------------------------------------------------------------------------------------------------------------------------------------------------------------------------------------------------------------------------------------------------------------------------------------------------------------------------------------------------------------------------------------------------------------------------------------------------------------------------------------------------------------------------------------------------------------------------------------------------------------------------------------------------------------------------------------------------------------------------------------------------------------------------------------------------------------------------------------------------\n"
     ]
    }
   ],
   "source": [
    "train_set, val_set, test_set, train_sources, val_sources, test_sources = generator.train_val_test_split(split_ratio=[0.6, 0.4, 0])\n",
    "\n",
    "for chunk in train_set[0:5]:\n",
    "    print(chunk[1])\n",
    "    print('-'*len(chunk[1]))\n"
   ]
  },
  {
   "cell_type": "markdown",
   "metadata": {},
   "source": [
    "## Generating single query-chunk pairs\n",
    "Here, we use the chunks from train_set to generate the single query-chunk pairs. We could have obtained chunks by runnning `get_all_chunks` method instead. We don't need to pass in chunk sources here as data leakage is already prevented during intial `train_val_test_split`."
   ]
  },
  {
   "cell_type": "code",
   "execution_count": 14,
   "metadata": {},
   "outputs": [
    {
     "name": "stderr",
     "output_type": "stream",
     "text": [
      "Generating Random Chunks: 100%|██████████| 5/5 [00:10<00:00,  2.17s/it]\n",
      "Generating Queries: 100%|██████████| 5/5 [00:02<00:00,  1.84it/s]\n",
      "Evolving Queries: 100%|██████████| 5/5 [00:02<00:00,  1.75it/s]\n",
      "Answering Queries: 100%|██████████| 10/10 [00:18<00:00,  1.83s/it]\n"
     ]
    }
   ],
   "source": [
    "single_chunk_query_dataset = generator.generate_dataset(\n",
    "    number_of_questions=5,                    # Number of queries to generate\n",
    "    chunks=train_set,                         # Adjust accordingly\n",
    "    generate_answers=True,                    # Set to False if don't need to generate relevant answers (in our case, only LLM-as-a-judge requires relevant answers)\n",
    "    get_multi_context=False,                  # Set to False if only generating single chunk-query pair\n",
    "    evolve_queries=True,                      # Set to False if evolution not required\n",
    "    evolve_steps=[\"generalizing_evolution\"],  # Type of query evolution, \n",
    "    json_path='./test_single_dataset.json',   # Output path for json document\n",
    "    chunk_size_threshold=200,                 # Character level threshold, higher means larger chunks\n",
    ")"
   ]
  },
  {
   "cell_type": "markdown",
   "metadata": {},
   "source": [
    "## View single query-chunk pairs\n",
    "We convert it into csv format for easy visualisation. We observe that since we turned evolution on, the first 5 queries are the more complex queries, while the next 5 queries are the transformed queries."
   ]
  },
  {
   "cell_type": "code",
   "execution_count": 16,
   "metadata": {},
   "outputs": [
    {
     "data": {
      "text/html": [
       "<div>\n",
       "<style scoped>\n",
       "    .dataframe tbody tr th:only-of-type {\n",
       "        vertical-align: middle;\n",
       "    }\n",
       "\n",
       "    .dataframe tbody tr th {\n",
       "        vertical-align: top;\n",
       "    }\n",
       "\n",
       "    .dataframe thead th {\n",
       "        text-align: right;\n",
       "    }\n",
       "</style>\n",
       "<table border=\"1\" class=\"dataframe\">\n",
       "  <thead>\n",
       "    <tr style=\"text-align: right;\">\n",
       "      <th></th>\n",
       "      <th>query</th>\n",
       "      <th>expected_answer</th>\n",
       "      <th>context_1</th>\n",
       "    </tr>\n",
       "  </thead>\n",
       "  <tbody>\n",
       "    <tr>\n",
       "      <th>0</th>\n",
       "      <td>What significant contributions did Alan Cox ma...</td>\n",
       "      <td>Alan Cox made significant contributions to the...</td>\n",
       "      <td>He then became one of the main developers and ...</td>\n",
       "    </tr>\n",
       "    <tr>\n",
       "      <th>1</th>\n",
       "      <td>What did Bernstein point out regarding the imp...</td>\n",
       "      <td>Bernstein pointed out that reducing the precis...</td>\n",
       "      <td>[31] The custom server was designed to give ou...</td>\n",
       "    </tr>\n",
       "    <tr>\n",
       "      <th>2</th>\n",
       "      <td>What are the different levels of councils and ...</td>\n",
       "      <td>The administrative structure described include...</td>\n",
       "      <td>[219] At the primary level are 14 cities of ra...</td>\n",
       "    </tr>\n",
       "    <tr>\n",
       "      <th>3</th>\n",
       "      <td>What allegations of extramarital affairs were ...</td>\n",
       "      <td>During his time as governor of Arkansas, Bill ...</td>\n",
       "      <td>[300] Clinton admitted to having extramarital ...</td>\n",
       "    </tr>\n",
       "    <tr>\n",
       "      <th>4</th>\n",
       "      <td>Does BitLocker have a built-in backdoor for la...</td>\n",
       "      <td>BitLocker does not have a built-in backdoor fo...</td>\n",
       "      <td>[46] All these attacks require physical access...</td>\n",
       "    </tr>\n",
       "    <tr>\n",
       "      <th>5</th>\n",
       "      <td>What role did Alan Cox play in Linux kernel de...</td>\n",
       "      <td>Alan Cox played a significant role in Linux ke...</td>\n",
       "      <td>He then became one of the main developers and ...</td>\n",
       "    </tr>\n",
       "    <tr>\n",
       "      <th>6</th>\n",
       "      <td>Why is server timestamp precision important in...</td>\n",
       "      <td>Server timestamp precision is crucial in encry...</td>\n",
       "      <td>[31] The custom server was designed to give ou...</td>\n",
       "    </tr>\n",
       "    <tr>\n",
       "      <th>7</th>\n",
       "      <td>What is the administrative structure of local ...</td>\n",
       "      <td>The administrative structure of local councils...</td>\n",
       "      <td>[219] At the primary level are 14 cities of ra...</td>\n",
       "    </tr>\n",
       "    <tr>\n",
       "      <th>8</th>\n",
       "      <td>What controversies surrounded Clinton during h...</td>\n",
       "      <td>Controversies surrounding Bill Clinton during ...</td>\n",
       "      <td>[300] Clinton admitted to having extramarital ...</td>\n",
       "    </tr>\n",
       "    <tr>\n",
       "      <th>9</th>\n",
       "      <td>Is there a way for law enforcement to bypass B...</td>\n",
       "      <td>Law enforcement does not have a guaranteed way...</td>\n",
       "      <td>[46] All these attacks require physical access...</td>\n",
       "    </tr>\n",
       "  </tbody>\n",
       "</table>\n",
       "</div>"
      ],
      "text/plain": [
       "                                               query  \\\n",
       "0  What significant contributions did Alan Cox ma...   \n",
       "1  What did Bernstein point out regarding the imp...   \n",
       "2  What are the different levels of councils and ...   \n",
       "3  What allegations of extramarital affairs were ...   \n",
       "4  Does BitLocker have a built-in backdoor for la...   \n",
       "5  What role did Alan Cox play in Linux kernel de...   \n",
       "6  Why is server timestamp precision important in...   \n",
       "7  What is the administrative structure of local ...   \n",
       "8  What controversies surrounded Clinton during h...   \n",
       "9  Is there a way for law enforcement to bypass B...   \n",
       "\n",
       "                                     expected_answer  \\\n",
       "0  Alan Cox made significant contributions to the...   \n",
       "1  Bernstein pointed out that reducing the precis...   \n",
       "2  The administrative structure described include...   \n",
       "3  During his time as governor of Arkansas, Bill ...   \n",
       "4  BitLocker does not have a built-in backdoor fo...   \n",
       "5  Alan Cox played a significant role in Linux ke...   \n",
       "6  Server timestamp precision is crucial in encry...   \n",
       "7  The administrative structure of local councils...   \n",
       "8  Controversies surrounding Bill Clinton during ...   \n",
       "9  Law enforcement does not have a guaranteed way...   \n",
       "\n",
       "                                           context_1  \n",
       "0  He then became one of the main developers and ...  \n",
       "1  [31] The custom server was designed to give ou...  \n",
       "2  [219] At the primary level are 14 cities of ra...  \n",
       "3  [300] Clinton admitted to having extramarital ...  \n",
       "4  [46] All these attacks require physical access...  \n",
       "5  He then became one of the main developers and ...  \n",
       "6  [31] The custom server was designed to give ou...  \n",
       "7  [219] At the primary level are 14 cities of ra...  \n",
       "8  [300] Clinton admitted to having extramarital ...  \n",
       "9  [46] All these attacks require physical access...  "
      ]
     },
     "execution_count": 16,
     "metadata": {},
     "output_type": "execute_result"
    }
   ],
   "source": [
    "dataset_in_csv = generator.dataset_mapping(\n",
    "    dataset=single_chunk_query_dataset,        # Dataset in json format\n",
    "    deep_eval_format=False                     # Inconsequential when generating single chunk-query pair, only important for multi-chunk queries\n",
    ")\n",
    "\n",
    "dataset_in_csv"
   ]
  },
  {
   "cell_type": "markdown",
   "metadata": {},
   "source": [
    "## Generate multi-chunk query pairs\n",
    "For this example, we will use the get_all_chunks method, assuming that we are not running COLBERT or Linear Adapters, which require a train_set. \n",
    "\n",
    "### Why generate 25 chunks?\n",
    "We notice that we generated 25 random chunks when we asked for 5 questions, and this is because when we attempt to build contexts, we evaluate the retrieved chunks (during context building) too, which means that if we cannot just use 5 chunks to generate 5 contexts due to high drop-out rate. As we observe, after 13 attempts of building contexts, we finally succeed in building the 5 contexts that meet the minimum requirement of 2 chunks per context."
   ]
  },
  {
   "cell_type": "code",
   "execution_count": 18,
   "metadata": {},
   "outputs": [
    {
     "name": "stderr",
     "output_type": "stream",
     "text": [
      "Generating Random Chunks: 100%|██████████| 25/25 [01:16<00:00,  3.04s/it]\n",
      "Building Contexts:  52%|█████▏    | 13/25 [01:03<00:58,  4.85s/it]\n",
      "Generating Queries: 100%|██████████| 5/5 [00:04<00:00,  1.19it/s]\n",
      "Answering Queries: 100%|██████████| 5/5 [00:18<00:00,  3.73s/it]\n"
     ]
    }
   ],
   "source": [
    "chunks, sources = generator.get_all_chunks()\n",
    "\n",
    "multi_chunk_dataset = generator.generate_dataset(\n",
    "    number_of_questions=5,                          # Number of queries to generate\n",
    "    chunks=chunks,                                  # Adjust accordingly\n",
    "    generate_answers=True,                          # Set to False if don't need to generate relevant answers (in our case, only LLM-as-a-judge requires relevant answers)\n",
    "    get_multi_context=True,                         # Set to False if only generating single chunk-query pair\n",
    "    evolve_queries=False,                           # Set to False since evolution not required\n",
    "    json_path='./multi_chunk_dataset.json',         # Output path for json document\n",
    "    sources=sources,                                # To prevent data leakage, required for multi-context\n",
    "    chunk_size_threshold=200,                       # Character level threshold, higher means larger chunks\n",
    "    max_chunks_per_context= 5,                      # Maximum number of chunks per context for multi-context\n",
    "    min_chunks_per_context= 2,                      # Minimum number of chunks per context for multi-context\n",
    "    similarity_threshold = 0.5                      # Cosine similarity threshold value for when grouping chunks into context, higher means stricter\n",
    ")"
   ]
  },
  {
   "cell_type": "markdown",
   "metadata": {},
   "source": [
    "## View multi-context query pairs\n",
    "Setting `deep_eval_format` to True just combines the context into a single large chunk of text."
   ]
  },
  {
   "cell_type": "code",
   "execution_count": 20,
   "metadata": {},
   "outputs": [
    {
     "data": {
      "text/html": [
       "<div>\n",
       "<style scoped>\n",
       "    .dataframe tbody tr th:only-of-type {\n",
       "        vertical-align: middle;\n",
       "    }\n",
       "\n",
       "    .dataframe tbody tr th {\n",
       "        vertical-align: top;\n",
       "    }\n",
       "\n",
       "    .dataframe thead th {\n",
       "        text-align: right;\n",
       "    }\n",
       "</style>\n",
       "<table border=\"1\" class=\"dataframe\">\n",
       "  <thead>\n",
       "    <tr style=\"text-align: right;\">\n",
       "      <th></th>\n",
       "      <th>query</th>\n",
       "      <th>expected_answer</th>\n",
       "      <th>context_1</th>\n",
       "      <th>context_2</th>\n",
       "      <th>context_3</th>\n",
       "      <th>context_4</th>\n",
       "      <th>context_5</th>\n",
       "    </tr>\n",
       "  </thead>\n",
       "  <tbody>\n",
       "    <tr>\n",
       "      <th>0</th>\n",
       "      <td>What impact did the AACS encryption key contro...</td>\n",
       "      <td>The AACS encryption key controversy in May 200...</td>\n",
       "      <td>(May 3, 2007). \"Digg's DVD-decoder fiasco: Law...</td>\n",
       "      <td>We hear you, and effective immediately we won'...</td>\n",
       "      <td>[39] On May 1, 2007, in response to a DMCA dem...</td>\n",
       "      <td>[39] On May 1, 2007, in response to a DMCA dem...</td>\n",
       "      <td>NaN</td>\n",
       "    </tr>\n",
       "    <tr>\n",
       "      <th>1</th>\n",
       "      <td>How did the partisan movements in Belarus duri...</td>\n",
       "      <td>The partisan movements in Belarus during World...</td>\n",
       "      <td>[75] During World War II, Belarus was home to ...</td>\n",
       "      <td>(issued in 1940) entirely composed of former p...</td>\n",
       "      <td>[80] In the 1990s some raised the estimate eve...</td>\n",
       "      <td>[68] Belarusian leadership was sent to Bereza ...</td>\n",
       "      <td>Standing, left to right: Arkadz Smolic, Pyotra...</td>\n",
       "    </tr>\n",
       "    <tr>\n",
       "      <th>2</th>\n",
       "      <td>How has religious diversity, including the pre...</td>\n",
       "      <td>Religious diversity, including the presence of...</td>\n",
       "      <td>There are small numbers of Ibadi and non- deno...</td>\n",
       "      <td>Today, however, most Arabs are Muslim, with a ...</td>\n",
       "      <td>[386][387] Historically, there were also sizea...</td>\n",
       "      <td>[384] The Druze community is concentrated in L...</td>\n",
       "      <td>NaN</td>\n",
       "    </tr>\n",
       "    <tr>\n",
       "      <th>3</th>\n",
       "      <td>How do different authentication factors, inclu...</td>\n",
       "      <td>Different authentication factors, including kn...</td>\n",
       "      <td>or verify a person's identity before being gra...</td>\n",
       "      <td>However, text, audio, and video can be copied ...</td>\n",
       "      <td>2. Ownership: Something the user has (e.g., wr...</td>\n",
       "      <td>[1] It might involve validating personal ident...</td>\n",
       "      <td>The European Central Bank (ECB) has defined st...</td>\n",
       "    </tr>\n",
       "    <tr>\n",
       "      <th>4</th>\n",
       "      <td>How did the publication and revisions of Lidde...</td>\n",
       "      <td>The publication and revisions of Liddell and S...</td>\n",
       "      <td>4. Liddell, Henry George; Scott, Robert (25 Ap...</td>\n",
       "      <td>In 1843, the same year as the full lexicon's p...</td>\n",
       "      <td>The second through seventh editions appeared i...</td>\n",
       "      <td>NaN</td>\n",
       "      <td>NaN</td>\n",
       "    </tr>\n",
       "  </tbody>\n",
       "</table>\n",
       "</div>"
      ],
      "text/plain": [
       "                                               query  \\\n",
       "0  What impact did the AACS encryption key contro...   \n",
       "1  How did the partisan movements in Belarus duri...   \n",
       "2  How has religious diversity, including the pre...   \n",
       "3  How do different authentication factors, inclu...   \n",
       "4  How did the publication and revisions of Lidde...   \n",
       "\n",
       "                                     expected_answer  \\\n",
       "0  The AACS encryption key controversy in May 200...   \n",
       "1  The partisan movements in Belarus during World...   \n",
       "2  Religious diversity, including the presence of...   \n",
       "3  Different authentication factors, including kn...   \n",
       "4  The publication and revisions of Liddell and S...   \n",
       "\n",
       "                                           context_1  \\\n",
       "0  (May 3, 2007). \"Digg's DVD-decoder fiasco: Law...   \n",
       "1  [75] During World War II, Belarus was home to ...   \n",
       "2  There are small numbers of Ibadi and non- deno...   \n",
       "3  or verify a person's identity before being gra...   \n",
       "4  4. Liddell, Henry George; Scott, Robert (25 Ap...   \n",
       "\n",
       "                                           context_2  \\\n",
       "0  We hear you, and effective immediately we won'...   \n",
       "1  (issued in 1940) entirely composed of former p...   \n",
       "2  Today, however, most Arabs are Muslim, with a ...   \n",
       "3  However, text, audio, and video can be copied ...   \n",
       "4  In 1843, the same year as the full lexicon's p...   \n",
       "\n",
       "                                           context_3  \\\n",
       "0  [39] On May 1, 2007, in response to a DMCA dem...   \n",
       "1  [80] In the 1990s some raised the estimate eve...   \n",
       "2  [386][387] Historically, there were also sizea...   \n",
       "3  2. Ownership: Something the user has (e.g., wr...   \n",
       "4  The second through seventh editions appeared i...   \n",
       "\n",
       "                                           context_4  \\\n",
       "0  [39] On May 1, 2007, in response to a DMCA dem...   \n",
       "1  [68] Belarusian leadership was sent to Bereza ...   \n",
       "2  [384] The Druze community is concentrated in L...   \n",
       "3  [1] It might involve validating personal ident...   \n",
       "4                                                NaN   \n",
       "\n",
       "                                           context_5  \n",
       "0                                                NaN  \n",
       "1  Standing, left to right: Arkadz Smolic, Pyotra...  \n",
       "2                                                NaN  \n",
       "3  The European Central Bank (ECB) has defined st...  \n",
       "4                                                NaN  "
      ]
     },
     "execution_count": 20,
     "metadata": {},
     "output_type": "execute_result"
    }
   ],
   "source": [
    "multi_dataset_in_csv = generator.dataset_mapping(\n",
    "    dataset=multi_chunk_dataset,\n",
    "    deep_eval_format=False\n",
    ")\n",
    "\n",
    "multi_dataset_in_csv"
   ]
  },
  {
   "cell_type": "code",
   "execution_count": 21,
   "metadata": {},
   "outputs": [
    {
     "data": {
      "text/html": [
       "<div>\n",
       "<style scoped>\n",
       "    .dataframe tbody tr th:only-of-type {\n",
       "        vertical-align: middle;\n",
       "    }\n",
       "\n",
       "    .dataframe tbody tr th {\n",
       "        vertical-align: top;\n",
       "    }\n",
       "\n",
       "    .dataframe thead th {\n",
       "        text-align: right;\n",
       "    }\n",
       "</style>\n",
       "<table border=\"1\" class=\"dataframe\">\n",
       "  <thead>\n",
       "    <tr style=\"text-align: right;\">\n",
       "      <th></th>\n",
       "      <th>input</th>\n",
       "      <th>expected_output</th>\n",
       "      <th>context</th>\n",
       "    </tr>\n",
       "  </thead>\n",
       "  <tbody>\n",
       "    <tr>\n",
       "      <th>0</th>\n",
       "      <td>What impact did the AACS encryption key contro...</td>\n",
       "      <td>The AACS encryption key controversy in May 200...</td>\n",
       "      <td>[\"(May 3, 2007). \\\"Digg's DVD-decoder fiasco: ...</td>\n",
       "    </tr>\n",
       "    <tr>\n",
       "      <th>1</th>\n",
       "      <td>How did the partisan movements in Belarus duri...</td>\n",
       "      <td>The partisan movements in Belarus during World...</td>\n",
       "      <td>[\"[75] During World War II, Belarus was home t...</td>\n",
       "    </tr>\n",
       "    <tr>\n",
       "      <th>2</th>\n",
       "      <td>How has religious diversity, including the pre...</td>\n",
       "      <td>Religious diversity, including the presence of...</td>\n",
       "      <td>[\"There are small numbers of Ibadi and non- de...</td>\n",
       "    </tr>\n",
       "    <tr>\n",
       "      <th>3</th>\n",
       "      <td>How do different authentication factors, inclu...</td>\n",
       "      <td>Different authentication factors, including kn...</td>\n",
       "      <td>[\"or verify a person's identity before being g...</td>\n",
       "    </tr>\n",
       "    <tr>\n",
       "      <th>4</th>\n",
       "      <td>How did the publication and revisions of Lidde...</td>\n",
       "      <td>The publication and revisions of Liddell and S...</td>\n",
       "      <td>[\"4. Liddell, Henry George; Scott, Robert (25 ...</td>\n",
       "    </tr>\n",
       "  </tbody>\n",
       "</table>\n",
       "</div>"
      ],
      "text/plain": [
       "                                               input  \\\n",
       "0  What impact did the AACS encryption key contro...   \n",
       "1  How did the partisan movements in Belarus duri...   \n",
       "2  How has religious diversity, including the pre...   \n",
       "3  How do different authentication factors, inclu...   \n",
       "4  How did the publication and revisions of Lidde...   \n",
       "\n",
       "                                     expected_output  \\\n",
       "0  The AACS encryption key controversy in May 200...   \n",
       "1  The partisan movements in Belarus during World...   \n",
       "2  Religious diversity, including the presence of...   \n",
       "3  Different authentication factors, including kn...   \n",
       "4  The publication and revisions of Liddell and S...   \n",
       "\n",
       "                                             context  \n",
       "0  [\"(May 3, 2007). \\\"Digg's DVD-decoder fiasco: ...  \n",
       "1  [\"[75] During World War II, Belarus was home t...  \n",
       "2  [\"There are small numbers of Ibadi and non- de...  \n",
       "3  [\"or verify a person's identity before being g...  \n",
       "4  [\"4. Liddell, Henry George; Scott, Robert (25 ...  "
      ]
     },
     "execution_count": 21,
     "metadata": {},
     "output_type": "execute_result"
    }
   ],
   "source": [
    "multi_dataset_in_csv_deepeval = generator.dataset_mapping(\n",
    "    dataset=multi_chunk_dataset,\n",
    "    deep_eval_format=True\n",
    ")\n",
    "\n",
    "multi_dataset_in_csv_deepeval"
   ]
  }
 ],
 "metadata": {
  "kernelspec": {
   "display_name": "AIIP",
   "language": "python",
   "name": "python3"
  },
  "language_info": {
   "codemirror_mode": {
    "name": "ipython",
    "version": 3
   },
   "file_extension": ".py",
   "mimetype": "text/x-python",
   "name": "python",
   "nbconvert_exporter": "python",
   "pygments_lexer": "ipython3",
   "version": "3.12.4"
  }
 },
 "nbformat": 4,
 "nbformat_minor": 2
}
